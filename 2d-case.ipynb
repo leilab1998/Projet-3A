{
  "cells": [
    {
      "cell_type": "markdown",
      "metadata": {
        "id": "869pdy3-cWcl"
      },
      "source": [
        "# **1. Imports**"
      ]
    },
    {
      "cell_type": "code",
      "execution_count": 1,
      "metadata": {
        "id": "3WsQYqn4bcLU"
      },
      "outputs": [],
      "source": [
        "## general imports \n",
        "import os\n",
        "import time\n",
        "import numpy as np\n",
        "import matplotlib.pyplot as plt\n",
        "import pandas as pd\n",
        "from tqdm import tqdm\n",
        "\n",
        "## model imports \n",
        "import torch\n",
        "import torch.nn as nn\n",
        "import torch.utils.data\n",
        "import torch.utils.tensorboard\n",
        "import torchvision\n",
        "import torchvision.transforms\n",
        "import sklearn.model_selection as model_selection\n",
        "from torch.nn import functional as F\n",
        "\n",
        "## observing data \n",
        "from mpl_toolkits.axes_grid1 import make_axes_locatable\n",
        "from glob import glob\n",
        "from IPython.display import clear_output"
      ]
    },
    {
      "cell_type": "markdown",
      "metadata": {
        "id": "MOFSxKZhdgke"
      },
      "source": [
        "# **2. Dataset**"
      ]
    },
    {
      "cell_type": "markdown",
      "metadata": {
        "id": "qSscwMlAd-yY"
      },
      "source": [
        "## 2.a.Loading the data from the github repository"
      ]
    },
    {
      "cell_type": "code",
      "execution_count": 2,
      "metadata": {
        "colab": {
          "base_uri": "https://localhost:8080/"
        },
        "id": "4VVvq9BsbiBs",
        "outputId": "f798b93a-04b9-491d-ac7d-329672304763"
      },
      "outputs": [
        {
          "name": "stdout",
          "output_type": "stream",
          "text": [
            "Cloning into 'MVA-Dose-Prediction'...\n",
            "remote: Enumerating objects: 38724, done.\u001b[K\n",
            "remote: Total 38724 (delta 0), reused 0 (delta 0), pack-reused 38724\u001b[K\n",
            "Receiving objects: 100% (38724/38724), 77.02 MiB | 16.77 MiB/s, done.\n",
            "Resolving deltas: 100% (30603/30603), done.\n",
            "Updating files: 100% (39600/39600), done.\n"
          ]
        }
      ],
      "source": [
        "!git clone https://github.com/soniamartinot/MVA-Dose-Prediction.git"
      ]
    },
    {
      "cell_type": "markdown",
      "metadata": {
        "id": "O4chMfSMfthx"
      },
      "source": [
        "## 2.b. Data visualisation"
      ]
    },
    {
      "cell_type": "markdown",
      "metadata": {
        "id": "UCa9JbveimPB"
      },
      "source": [
        "\n",
        "The data is stored in the folder `/MVA-Dose-Prediction/`.\n",
        "\n",
        "In this folder, there are 3 subfolders:\n",
        "\n",
        "> _A `train` folder_ that contains 7800 patient folders. This is our training dataset.\n",
        "\n",
        "> - In each patient folder, there are 4 different files.\n",
        "> - The images have dimensions of (128, 128).\n",
        "\n",
        "> _The `validation` folder_ contains the folders of 1200 patients. This is our validation dataset.\n",
        "\n",
        "> _The `test` folder_ that contains 1200 patient folders. \n",
        "\n",
        "**Objectif : Predicting the radiation dose for the patients in the test folder.**"
      ]
    },
    {
      "cell_type": "code",
      "execution_count": 3,
      "metadata": {
        "id": "Clq6ghJ3cYJm"
      },
      "outputs": [],
      "source": [
        "# the different datasets are stored in the folder MVA-Dose-Prediction\n",
        "data_path_train = './MVA-Dose-Prediction/train/'\n",
        "data_path_validation = './MVA-Dose-Prediction/validation/'\n",
        "data_path_test = './MVA-Dose-Prediction/test/'"
      ]
    },
    {
      "cell_type": "code",
      "execution_count": 4,
      "metadata": {
        "colab": {
          "base_uri": "https://localhost:8080/"
        },
        "id": "7cvAsBQSicOj",
        "outputId": "a4ba3d9f-de90-4d7f-eba6-c8fcb179d888"
      },
      "outputs": [
        {
          "name": "stdout",
          "output_type": "stream",
          "text": [
            "Number of patients in the train folder:\n",
            " 7800\n",
            "Number of patients in the test folder:\n",
            " 1200\n",
            "Number of patients in the validation folder:\n",
            " 1200\n",
            "Content of a patient's folder:\n",
            " ['structure_masks.npy', 'possible_dose_mask.npy', 'dose.npy', 'ct.npy']\n"
          ]
        }
      ],
      "source": [
        "# Inside of the train folder\n",
        "print(\"Number of patients in the train folder:\\n\", len(os.listdir(data_path_train)))\n",
        "print(\"Number of patients in the test folder:\\n\", len(os.listdir(data_path_test)))\n",
        "print(\"Number of patients in the validation folder:\\n\", len(os.listdir(data_path_validation)))\n",
        "\n",
        "patient = 'sample_5295'\n",
        "print(\"Content of a patient's folder:\\n\", os.listdir(data_path_train + patient))"
      ]
    },
    {
      "cell_type": "markdown",
      "metadata": {
        "id": "JnRd1zcvkqO9"
      },
      "source": [
        "Each patient folder contains 4 `.npy` files:\n",
        "\n",
        "- `structure_masks` (10 x 128 x 128)\n",
        "- `possible_dose_mask` (128 x 128)\n",
        "- `ct` (128 x 128)\n",
        "- `dose` (128 x 128) (True label to predict)"
      ]
    },
    {
      "cell_type": "code",
      "execution_count": null,
      "metadata": {
        "colab": {
          "base_uri": "https://localhost:8080/",
          "height": 1000
        },
        "id": "7d3_UeBrihQT",
        "outputId": "de6b57a6-2931-4e31-84cd-eb3641959e2e"
      },
      "outputs": [
        {
          "name": "stdout",
          "output_type": "stream",
          "text": [
            "ct.npy\n",
            " **************** \n",
            "possible_dose_mask.npy\n",
            " **************** \n",
            "dose.npy\n",
            " **************** \n"
          ]
        },
        {
          "data": {
            "image/png": "[encoded data removed]",
            "text/plain": [
              "<Figure size 1080x360 with 2 Axes>"
            ]
          },
          "metadata": {
            "needs_background": "light"
          },
          "output_type": "display_data"
        },
        {
          "data": {
            "image/png": "[encoded data removed]",
            "text/plain": [
              "<Figure size 1080x360 with 2 Axes>"
            ]
          },
          "metadata": {
            "needs_background": "light"
          },
          "output_type": "display_data"
        },
        {
          "data": {
            "image/png": "[encoded data removed]",
            "text/plain": [
              "<Figure size 1080x360 with 2 Axes>"
            ]
          },
          "metadata": {
            "needs_background": "light"
          },
          "output_type": "display_data"
        }
      ],
      "source": [
        "# We dispay the files in the patient sample_5296\n",
        "\n",
        "def fig_ax(figsize=(15, 5)):\n",
        "    fig, ax = plt.subplots(figsize=figsize)\n",
        "    ax.autoscale(enable=True, axis='x', tight=True)\n",
        "    return fig, ax\n",
        "\n",
        "def display_image(image):\n",
        "  fig, ax = fig_ax()\n",
        "  im = ax.imshow(image)\n",
        "  divider = make_axes_locatable(ax)\n",
        "  cax = divider.append_axes(\"right\", size=\"5%\", pad=0.05)\n",
        "  fig.colorbar(im, cax=cax)\n",
        "  plt.plot()\n",
        "  \n",
        "\n",
        "files = ['ct.npy','possible_dose_mask.npy', 'dose.npy']\n",
        "for file in files:\n",
        "    print(file)\n",
        "    image = np.load('./MVA-Dose-Prediction/train/sample_5296/' + file)\n",
        "    display_image(image)\n",
        "    print( ' **************** ')"
      ]
    },
    {
      "cell_type": "markdown",
      "metadata": {
        "id": "aTzZuOP3nGCY"
      },
      "source": [
        "# **3.Model** "
      ]
    },
    {
      "cell_type": "markdown",
      "metadata": {
        "id": "d0YJO2r7pODJ"
      },
      "source": [
        "## 3.a. Global model Presentation"
      ]
    },
    {
      "cell_type": "markdown",
      "metadata": {
        "id": "reMvZKGSoWWv"
      },
      "source": [
        "In this section, we will implement and train a [**UNet**](https://arxiv.org/pdf/1505.04597.pdf). UNets are particularly used for segmentation tasks in medical imaging. And can also be adatped to a regression task such as radiation dose prediction.\n",
        "\n",
        "![](https://lmb.informatik.uni-freiburg.de/people/ronneber/u-net/u-net-architecture.png)\n",
        "\n",
        "\n"
      ]
    },
    {
      "cell_type": "markdown",
      "metadata": {
        "id": "9S5gI_PRqNwW"
      },
      "source": [
        "## 3.b. Network Creation "
      ]
    },
    {
      "cell_type": "markdown",
      "metadata": {
        "id": "mehBb_xBqWtR"
      },
      "source": [
        "### **i. Building blocks**"
      ]
    },
    {
      "cell_type": "code",
      "execution_count": null,
      "metadata": {
        "id": "H7EUD9rQmehT"
      },
      "outputs": [],
      "source": [
        "## Activation function\n",
        "def get_activation(activation_type):\n",
        "  \"\"\" This implement an activation fonction \"\"\"\n",
        "  activation_type = activation_type.lower()\n",
        "  if hasattr(nn, activation_type):  return getattr(nn, activation_type)()\n",
        "  else:  return nn.ReLU()"
      ]
    },
    {
      "cell_type": "code",
      "execution_count": null,
      "metadata": {
        "id": "S3EmSh-0qwVB"
      },
      "outputs": [],
      "source": [
        "## ConBatchNorm block\n",
        "class ConvBatchNorm(nn.Module):\n",
        "    \"\"\" This block implements Convolution + BatchNorm + Activation\"\"\"  \n",
        "    def __init__(self, in_channels, out_channels, activation='ReLU'):\n",
        "        super(ConvBatchNorm, self).__init__()\n",
        "        self.conv = nn.Conv2d(in_channels, out_channels, \n",
        "                              kernel_size=3, padding=1)\n",
        "        self.norm = nn.BatchNorm2d(out_channels)\n",
        "        self.activation = get_activation(activation)\n",
        "      \n",
        "    def forward(self, x):\n",
        "        out = self.conv(x)\n",
        "        out = self.norm(out)\n",
        "        return self.activation(out)"
      ]
    },
    {
      "cell_type": "code",
      "execution_count": null,
      "metadata": {
        "id": "djZvzkTN9JdO"
      },
      "outputs": [],
      "source": [
        "## Resblock \n",
        "class ResBlock(nn.Module):\n",
        "    \"\"\" This block implements a Residual Block\"\"\"\n",
        "    def __init__(self, in_channels, out_channels, activation='ReLU'):\n",
        "        super(ResBlock, self).__init__()\n",
        "        \n",
        "        self.conv1 = nn.Conv2d(in_channels, out_channels, kernel_size=3, padding=1)\n",
        "        self.bn1 = nn.BatchNorm2d(in_channels)\n",
        "        self.activation = get_activation(activation)\n",
        "        self.conv2 = nn.Conv2d(out_channels, out_channels, kernel_size=3, padding=1)\n",
        "        self.bn2 = nn.BatchNorm2d(out_channels)\n",
        "\n",
        "        self.shortcut = nn.Sequential()\n",
        "        if in_channels != out_channels:\n",
        "            self.shortcut = nn.Sequential(\n",
        "                nn.Conv2d(in_channels, out_channels, kernel_size=1, bias=False),\n",
        "                nn.BatchNorm2d(out_channels))\n",
        "      \n",
        "    def forward(self, x):\n",
        "        out = self.bn1(x)  \n",
        "        out = self.activation(out) # pre-activation version\n",
        "        out = self.conv1(out)\n",
        "        out = self.bn2(out)\n",
        "        out = self.activation(out)\n",
        "        out = self.conv2(out)\n",
        "        out += self.shortcut(x)\n",
        "        return out"
      ]
    },
    {
      "cell_type": "code",
      "execution_count": null,
      "metadata": {
        "id": "SZwqNC6MrHNw"
      },
      "outputs": [],
      "source": [
        "## Conv layers\n",
        "def _make_nConv(in_channels, out_channels, nb_Conv, activation='ReLU'):\n",
        "    \"\"\" This function implements a sequence of ConvBatchNorm layers \"\"\"\n",
        "    layers = []\n",
        "    layers.append(ConvBatchNorm(in_channels, out_channels, activation))\n",
        "    for _ in range(nb_Conv-1):\n",
        "        layers.append(ConvBatchNorm(out_channels, out_channels, activation))\n",
        "    return nn.Sequential(*layers)"
      ]
    },
    {
      "cell_type": "code",
      "execution_count": null,
      "metadata": {
        "id": "sgK07O3orL9S"
      },
      "outputs": [],
      "source": [
        "### Definition of the various blocks that construct the U-net\n",
        "\n",
        "class DownBlock(nn.Module):\n",
        "    \"\"\" Downscaling with maxpooling and convolutions \"\"\"\n",
        "    def __init__(self, in_channels, out_channels, nb_Conv, activation='ReLU'):\n",
        "        super(DownBlock, self).__init__()\n",
        "        self.maxpool = nn.MaxPool2d(2)\n",
        "        self.nConvs = _make_nConv(in_channels, out_channels, nb_Conv, activation)\n",
        "\n",
        "    def forward(self, x):\n",
        "        out = self.maxpool(x)\n",
        "        return self.nConvs(out)  \n",
        "\n",
        "class Bottleneck(nn.Module):\n",
        "    def __init__(self, in_channels, out_channels, nb_Conv=2, activation='ReLU'):\n",
        "        super(Bottleneck, self).__init__()\n",
        "        self.nConvs = _make_nConv(in_channels, out_channels, nb_Conv, activation)\n",
        "\n",
        "    def forward(self, input):\n",
        "        out = self.nConvs(input)\n",
        "\n",
        "        return out\n",
        "\n",
        "class UpBlock(nn.Module):\n",
        "    \"\"\" Upscaling then convolution \"\"\"\n",
        "    def __init__(self, in_channels, out_channels, nb_Conv=2, activation='ReLU'):\n",
        "        super(UpBlock, self).__init__()        \n",
        "        self.up = nn.Upsample(scale_factor=2)\n",
        "        self.nConvs = _make_nConv(in_channels, out_channels, nb_Conv, activation)\n",
        "\n",
        "    def forward(self, x, skip_x):\n",
        "        out = self.up(x)\n",
        "        x = torch.cat([out, skip_x], dim=1) # dim 1 is the channel dimension\n",
        "        return self.nConvs(x)"
      ]
    },
    {
      "cell_type": "markdown",
      "metadata": {
        "id": "9uVp8fKKrtqf"
      },
      "source": [
        "### **ii. Unet architecture**"
      ]
    },
    {
      "cell_type": "code",
      "execution_count": null,
      "metadata": {
        "id": "WNv8XWjarqII"
      },
      "outputs": [],
      "source": [
        "class UNet(nn.Module):\n",
        "    def __init__(self, n_channels=12, n_classes=1):\n",
        "        '''\n",
        "        n_channels : number of channels of the input. \n",
        "                        By default 12, because of the shape of our input\n",
        "        n_labels : number of channels of the ouput.\n",
        "                      By default 1 because it's a regression task (we predict dose radiation)\n",
        "        '''\n",
        "        super(UNet, self).__init__()\n",
        "        self.n_channels = n_channels\n",
        "        self.n_classes = n_classes\n",
        "        self.inc = ResBlock(n_channels,64, activation='LeakyReLU')\n",
        "\n",
        "        ### Encoder \n",
        "        self.down1 = DownBlock(64, 128, nb_Conv=2)\n",
        "        self.down2 = DownBlock(128, 256, nb_Conv=2)\n",
        "        self.down3 = DownBlock(256, 512, nb_Conv=2)\n",
        "        self.down4 = DownBlock(512, 1024, nb_Conv=2)\n",
        "        self.down5 = DownBlock(1024, 1024, nb_Conv=2)\n",
        "\n",
        "        self.Encoder = [self.down1, self.down2, self.down3,self.down4,self.down5]\n",
        "\n",
        "        ### Bottleneck\n",
        "        self.bottleneck = Bottleneck(1024, 1024)\n",
        "\n",
        "        ### Decoder \n",
        "        self.up1 = UpBlock(2048, 512, nb_Conv=2)\n",
        "        self.up2 = UpBlock(1024, 256, nb_Conv=2)\n",
        "        self.up3 = UpBlock(512, 128, nb_Conv=2)\n",
        "        self.up4 = UpBlock(256, 64, nb_Conv=2)\n",
        "        self.up5 = UpBlock(128, 64, nb_Conv=2)\n",
        "\n",
        "        self.Decoder = [self.up1,self.up2, self.up3,self.up4,self.up5]\n",
        "\n",
        "        self.outc = nn.Sequential(\n",
        "                                  nn.Conv2d(64, self.n_classes, kernel_size=3, stride=1, padding=1)\n",
        "                                  )\n",
        "        self.last_activation = get_activation('ReLU')\n",
        "\n",
        "    \n",
        "    def forward(self, x):\n",
        "        # Forward \n",
        "        x = self.inc(x) \n",
        "        skip_inputs = [x]\n",
        "        # Forward through encoder\n",
        "        for i, block in enumerate(self.Encoder):\n",
        "            x = block(x)  \n",
        "            skip_inputs += [x] \n",
        "            x = F.dropout(x, p=0.5, training=self.training)           \n",
        "\n",
        "        # We are at the bottleneck.\n",
        "        bottleneck = self.bottleneck(x)\n",
        "        bottleneck = F.dropout(bottleneck, p=0.5, training=self.training)\n",
        "        \n",
        "        # Forward through decoder\n",
        "        skip_inputs.reverse()\n",
        "        decoded = bottleneck\n",
        "        for i, block in enumerate(self.Decoder):\n",
        "            # Concat with skipconnections\n",
        "            skipped = skip_inputs[i+1]\n",
        "            decoded = block(decoded, skipped)\n",
        "            decoded = F.dropout(decoded, p=0.5, training=self.training)\n",
        "        out = self.last_activation(self.outc(decoded))\n",
        "        return out"
      ]
    },
    {
      "cell_type": "markdown",
      "metadata": {
        "id": "TkBSwWuytW1g"
      },
      "source": [
        "##3.c. Test of the Model : \n",
        "\n",
        "> In order to study and potentially debug the neural network, we try to input a random tensor of size `(1, 12, 128, 128)` (batch size, number of modalities, image shape) to the model using the `torch.rand` function.\n",
        "\n",
        "> We also check that the output dimensions of the neural network match the expected dimensions (1, 1, 128, 128).\n",
        "\n",
        "> We also display the details of the network architecture to make sure that no errors have been made."
      ]
    },
    {
      "cell_type": "code",
      "execution_count": null,
      "metadata": {
        "colab": {
          "base_uri": "https://localhost:8080/"
        },
        "id": "r0oRSDZLsUox",
        "outputId": "ca772b60-448c-486d-e970-0157908584c5"
      },
      "outputs": [
        {
          "name": "stdout",
          "output_type": "stream",
          "text": [
            "UNet(\n",
            "  (inc): ResBlock(\n",
            "    (conv1): Conv2d(12, 64, kernel_size=(3, 3), stride=(1, 1), padding=(1, 1))\n",
            "    (bn1): BatchNorm2d(64, eps=1e-05, momentum=0.1, affine=True, track_running_stats=True)\n",
            "    (activation): ReLU()\n",
            "    (conv2): Conv2d(64, 64, kernel_size=(3, 3), stride=(1, 1), padding=(1, 1))\n",
            "    (bn2): BatchNorm2d(64, eps=1e-05, momentum=0.1, affine=True, track_running_stats=True)\n",
            "    (shortcut): Sequential(\n",
            "      (0): Conv2d(12, 64, kernel_size=(1, 1), stride=(1, 1), bias=False)\n",
            "      (1): BatchNorm2d(64, eps=1e-05, momentum=0.1, affine=True, track_running_stats=True)\n",
            "    )\n",
            "  )\n",
            "  (down1): DownBlock(\n",
            "    (maxpool): MaxPool2d(kernel_size=2, stride=2, padding=0, dilation=1, ceil_mode=False)\n",
            "    (nConvs): Sequential(\n",
            "      (0): ConvBatchNorm(\n",
            "        (conv): Conv2d(64, 128, kernel_size=(3, 3), stride=(1, 1), padding=(1, 1))\n",
            "        (norm): BatchNorm2d(128, eps=1e-05, momentum=0.1, affine=True, track_running_stats=True)\n",
            "        (activation): ReLU()\n",
            "      )\n",
            "      (1): ConvBatchNorm(\n",
            "        (conv): Conv2d(128, 128, kernel_size=(3, 3), stride=(1, 1), padding=(1, 1))\n",
            "        (norm): BatchNorm2d(128, eps=1e-05, momentum=0.1, affine=True, track_running_stats=True)\n",
            "        (activation): ReLU()\n",
            "      )\n",
            "    )\n",
            "  )\n",
            "  (down2): DownBlock(\n",
            "    (maxpool): MaxPool2d(kernel_size=2, stride=2, padding=0, dilation=1, ceil_mode=False)\n",
            "    (nConvs): Sequential(\n",
            "      (0): ConvBatchNorm(\n",
            "        (conv): Conv2d(128, 256, kernel_size=(3, 3), stride=(1, 1), padding=(1, 1))\n",
            "        (norm): BatchNorm2d(256, eps=1e-05, momentum=0.1, affine=True, track_running_stats=True)\n",
            "        (activation): ReLU()\n",
            "      )\n",
            "      (1): ConvBatchNorm(\n",
            "        (conv): Conv2d(256, 256, kernel_size=(3, 3), stride=(1, 1), padding=(1, 1))\n",
            "        (norm): BatchNorm2d(256, eps=1e-05, momentum=0.1, affine=True, track_running_stats=True)\n",
            "        (activation): ReLU()\n",
            "      )\n",
            "    )\n",
            "  )\n",
            "  (down3): DownBlock(\n",
            "    (maxpool): MaxPool2d(kernel_size=2, stride=2, padding=0, dilation=1, ceil_mode=False)\n",
            "    (nConvs): Sequential(\n",
            "      (0): ConvBatchNorm(\n",
            "        (conv): Conv2d(256, 512, kernel_size=(3, 3), stride=(1, 1), padding=(1, 1))\n",
            "        (norm): BatchNorm2d(512, eps=1e-05, momentum=0.1, affine=True, track_running_stats=True)\n",
            "        (activation): ReLU()\n",
            "      )\n",
            "      (1): ConvBatchNorm(\n",
            "        (conv): Conv2d(512, 512, kernel_size=(3, 3), stride=(1, 1), padding=(1, 1))\n",
            "        (norm): BatchNorm2d(512, eps=1e-05, momentum=0.1, affine=True, track_running_stats=True)\n",
            "        (activation): ReLU()\n",
            "      )\n",
            "    )\n",
            "  )\n",
            "  (down4): DownBlock(\n",
            "    (maxpool): MaxPool2d(kernel_size=2, stride=2, padding=0, dilation=1, ceil_mode=False)\n",
            "    (nConvs): Sequential(\n",
            "      (0): ConvBatchNorm(\n",
            "        (conv): Conv2d(512, 1024, kernel_size=(3, 3), stride=(1, 1), padding=(1, 1))\n",
            "        (norm): BatchNorm2d(1024, eps=1e-05, momentum=0.1, affine=True, track_running_stats=True)\n",
            "        (activation): ReLU()\n",
            "      )\n",
            "      (1): ConvBatchNorm(\n",
            "        (conv): Conv2d(1024, 1024, kernel_size=(3, 3), stride=(1, 1), padding=(1, 1))\n",
            "        (norm): BatchNorm2d(1024, eps=1e-05, momentum=0.1, affine=True, track_running_stats=True)\n",
            "        (activation): ReLU()\n",
            "      )\n",
            "    )\n",
            "  )\n",
            "  (down5): DownBlock(\n",
            "    (maxpool): MaxPool2d(kernel_size=2, stride=2, padding=0, dilation=1, ceil_mode=False)\n",
            "    (nConvs): Sequential(\n",
            "      (0): ConvBatchNorm(\n",
            "        (conv): Conv2d(1024, 1024, kernel_size=(3, 3), stride=(1, 1), padding=(1, 1))\n",
            "        (norm): BatchNorm2d(1024, eps=1e-05, momentum=0.1, affine=True, track_running_stats=True)\n",
            "        (activation): ReLU()\n",
            "      )\n",
            "      (1): ConvBatchNorm(\n",
            "        (conv): Conv2d(1024, 1024, kernel_size=(3, 3), stride=(1, 1), padding=(1, 1))\n",
            "        (norm): BatchNorm2d(1024, eps=1e-05, momentum=0.1, affine=True, track_running_stats=True)\n",
            "        (activation): ReLU()\n",
            "      )\n",
            "    )\n",
            "  )\n",
            "  (bottleneck): Bottleneck(\n",
            "    (nConvs): Sequential(\n",
            "      (0): ConvBatchNorm(\n",
            "        (conv): Conv2d(1024, 1024, kernel_size=(3, 3), stride=(1, 1), padding=(1, 1))\n",
            "        (norm): BatchNorm2d(1024, eps=1e-05, momentum=0.1, affine=True, track_running_stats=True)\n",
            "        (activation): ReLU()\n",
            "      )\n",
            "      (1): ConvBatchNorm(\n",
            "        (conv): Conv2d(1024, 1024, kernel_size=(3, 3), stride=(1, 1), padding=(1, 1))\n",
            "        (norm): BatchNorm2d(1024, eps=1e-05, momentum=0.1, affine=True, track_running_stats=True)\n",
            "        (activation): ReLU()\n",
            "      )\n",
            "    )\n",
            "    (last): ConvTranspose2d(1024, 1024, kernel_size=(3, 3), stride=(2, 2), padding=(1, 1), output_padding=(1, 1))\n",
            "  )\n",
            "  (up1): UpBlock(\n",
            "    (up): Upsample(scale_factor=2.0, mode=nearest)\n",
            "    (nConvs): Sequential(\n",
            "      (0): ConvBatchNorm(\n",
            "        (conv): Conv2d(2048, 512, kernel_size=(3, 3), stride=(1, 1), padding=(1, 1))\n",
            "        (norm): BatchNorm2d(512, eps=1e-05, momentum=0.1, affine=True, track_running_stats=True)\n",
            "        (activation): ReLU()\n",
            "      )\n",
            "      (1): ConvBatchNorm(\n",
            "        (conv): Conv2d(512, 512, kernel_size=(3, 3), stride=(1, 1), padding=(1, 1))\n",
            "        (norm): BatchNorm2d(512, eps=1e-05, momentum=0.1, affine=True, track_running_stats=True)\n",
            "        (activation): ReLU()\n",
            "      )\n",
            "    )\n",
            "  )\n",
            "  (up2): UpBlock(\n",
            "    (up): Upsample(scale_factor=2.0, mode=nearest)\n",
            "    (nConvs): Sequential(\n",
            "      (0): ConvBatchNorm(\n",
            "        (conv): Conv2d(1024, 256, kernel_size=(3, 3), stride=(1, 1), padding=(1, 1))\n",
            "        (norm): BatchNorm2d(256, eps=1e-05, momentum=0.1, affine=True, track_running_stats=True)\n",
            "        (activation): ReLU()\n",
            "      )\n",
            "      (1): ConvBatchNorm(\n",
            "        (conv): Conv2d(256, 256, kernel_size=(3, 3), stride=(1, 1), padding=(1, 1))\n",
            "        (norm): BatchNorm2d(256, eps=1e-05, momentum=0.1, affine=True, track_running_stats=True)\n",
            "        (activation): ReLU()\n",
            "      )\n",
            "    )\n",
            "  )\n",
            "  (up3): UpBlock(\n",
            "    (up): Upsample(scale_factor=2.0, mode=nearest)\n",
            "    (nConvs): Sequential(\n",
            "      (0): ConvBatchNorm(\n",
            "        (conv): Conv2d(512, 128, kernel_size=(3, 3), stride=(1, 1), padding=(1, 1))\n",
            "        (norm): BatchNorm2d(128, eps=1e-05, momentum=0.1, affine=True, track_running_stats=True)\n",
            "        (activation): ReLU()\n",
            "      )\n",
            "      (1): ConvBatchNorm(\n",
            "        (conv): Conv2d(128, 128, kernel_size=(3, 3), stride=(1, 1), padding=(1, 1))\n",
            "        (norm): BatchNorm2d(128, eps=1e-05, momentum=0.1, affine=True, track_running_stats=True)\n",
            "        (activation): ReLU()\n",
            "      )\n",
            "    )\n",
            "  )\n",
            "  (up4): UpBlock(\n",
            "    (up): Upsample(scale_factor=2.0, mode=nearest)\n",
            "    (nConvs): Sequential(\n",
            "      (0): ConvBatchNorm(\n",
            "        (conv): Conv2d(256, 64, kernel_size=(3, 3), stride=(1, 1), padding=(1, 1))\n",
            "        (norm): BatchNorm2d(64, eps=1e-05, momentum=0.1, affine=True, track_running_stats=True)\n",
            "        (activation): ReLU()\n",
            "      )\n",
            "      (1): ConvBatchNorm(\n",
            "        (conv): Conv2d(64, 64, kernel_size=(3, 3), stride=(1, 1), padding=(1, 1))\n",
            "        (norm): BatchNorm2d(64, eps=1e-05, momentum=0.1, affine=True, track_running_stats=True)\n",
            "        (activation): ReLU()\n",
            "      )\n",
            "    )\n",
            "  )\n",
            "  (up5): UpBlock(\n",
            "    (up): Upsample(scale_factor=2.0, mode=nearest)\n",
            "    (nConvs): Sequential(\n",
            "      (0): ConvBatchNorm(\n",
            "        (conv): Conv2d(128, 64, kernel_size=(3, 3), stride=(1, 1), padding=(1, 1))\n",
            "        (norm): BatchNorm2d(64, eps=1e-05, momentum=0.1, affine=True, track_running_stats=True)\n",
            "        (activation): ReLU()\n",
            "      )\n",
            "      (1): ConvBatchNorm(\n",
            "        (conv): Conv2d(64, 64, kernel_size=(3, 3), stride=(1, 1), padding=(1, 1))\n",
            "        (norm): BatchNorm2d(64, eps=1e-05, momentum=0.1, affine=True, track_running_stats=True)\n",
            "        (activation): ReLU()\n",
            "      )\n",
            "    )\n",
            "  )\n",
            "  (outc): Sequential(\n",
            "    (0): Conv2d(64, 1, kernel_size=(3, 3), stride=(1, 1), padding=(1, 1))\n",
            "  )\n",
            "  (last_activation): ReLU()\n",
            ")\n",
            "torch.Size([1, 1, 128, 128])\n",
            "tensor([[[[0.0528, 0.0000, 0.0000,  ..., 0.0000, 0.0000, 0.1462],\n",
            "          [0.0000, 0.0019, 0.0000,  ..., 0.7337, 0.2727, 0.1101],\n",
            "          [0.0000, 0.4688, 0.0000,  ..., 0.0000, 0.1799, 0.1346],\n",
            "          ...,\n",
            "          [0.0000, 0.6687, 0.0000,  ..., 0.0521, 0.6996, 0.0000],\n",
            "          [0.0000, 0.0000, 0.0495,  ..., 0.1094, 0.5145, 0.5204],\n",
            "          [0.2610, 0.0852, 0.0000,  ..., 0.0720, 0.5730, 0.1479]]]],\n",
            "       grad_fn=<ReluBackward0>)\n"
          ]
        }
      ],
      "source": [
        "model = UNet(n_channels=12, n_classes=1)\n",
        "print(model)\n",
        "\n",
        "# Image of size 1*12*128*128\n",
        "x = torch.rand((1, 12, 128,128))\n",
        "y = model(x)\n",
        "print(y.shape)\n",
        "print(y)"
      ]
    },
    {
      "cell_type": "markdown",
      "metadata": {
        "id": "lc8eVCm_u0gl"
      },
      "source": [
        "# **4. Dataset Generation for the network**"
      ]
    },
    {
      "cell_type": "code",
      "execution_count": null,
      "metadata": {
        "id": "aBF57hMmuZ9c"
      },
      "outputs": [],
      "source": [
        "# Creation of a list of patient names / identifiers for each data record (Train, validation,test)\n",
        "train_ID=os.listdir(data_path_train)\n",
        "validation_ID=os.listdir(data_path_validation)\n",
        "test_ID=os.listdir(data_path_test)"
      ]
    },
    {
      "cell_type": "markdown",
      "metadata": {
        "id": "obHz5FEwyHFt"
      },
      "source": [
        "## 4.a. Dataset class :\n",
        "\n",
        "> We create a custom dataset so that we can train our U-Net on it. To do this, we need to implement three methods in the PredictionDataset class: __init__, __len__, and __getitem__.\n",
        "\n",
        "> The __init__ method is executed once during the instantiation of the Dataset object.\n",
        "\n",
        "> The __len__ method returns the number of samples in our dataset.\n",
        "\n",
        "> The __getitem__ method loads and returns a sample from the dataset at the given index idx. Based on the index, it identifies the location of the image on disk, converts it to a tensor, retrieves the corresponding label, calls transformation functions (if applicable), and returns the image tensor and corresponding label."
      ]
    },
    {
      "cell_type": "code",
      "execution_count": null,
      "metadata": {
        "id": "PTsTSyx9yYvp"
      },
      "outputs": [],
      "source": [
        "class PredictionDataset(torch.utils.data.Dataset):\n",
        "    'Generates data for torch'\n",
        "\n",
        "    def __init__(self, files_list, data_path, transform=None):\n",
        "        super(PredictionDataset, self).__init__()\n",
        "        self.files_list = files_list\n",
        "        self.transform = transform\n",
        "        self.data_path = data_path\n",
        "\n",
        "    def __len__(self):\n",
        "        return len(self.files_list)\n",
        "\n",
        "    def __getitem__(self, idx):\n",
        "        'Get a patient given idx'\n",
        "        patient = self.files_list[idx]\n",
        "\n",
        "        irm, mask = self.load(patient)\n",
        "        sample = (irm, mask)\n",
        "\n",
        "        # Apply data transformation\n",
        "        if self.transform:\n",
        "            irm, mask = self.transform(sample)\n",
        "        return (irm, mask, patient)\n",
        "\n",
        "    def load(self, ID):\n",
        "        'Load the data given a patient idx'\n",
        "        patient = ID\n",
        "        patient_path = os.path.join(self.data_path, patient)\n",
        "\n",
        "        # Get all modalities for the given patient\n",
        "        irm = []\n",
        "        u=np.load(os.path.join(patient_path,'structure_masks.npy'))\n",
        "        for k in range(len(u)):\n",
        "          irm.append(u[k])\n",
        "        irm.append(np.load(os.path.join(patient_path,'possible_dose_mask.npy')))\n",
        "        irm.append(np.load(os.path.join(patient_path,'ct.npy')))\n",
        "        irm = np.stack(irm, axis=0)\n",
        "\n",
        "        mask= np.array([np.load(os.path.join(patient_path,'dose.npy'))])\n",
        "        return irm, mask"
      ]
    },
    {
      "cell_type": "markdown",
      "metadata": {
        "id": "ChxWzKM0yk5V"
      },
      "source": [
        "## 4.b. `PredictionDataset` Instances :"
      ]
    },
    {
      "cell_type": "code",
      "execution_count": null,
      "metadata": {
        "id": "fkLcvSUh7b2y"
      },
      "outputs": [],
      "source": [
        "from torchvision import transforms \n",
        "\n",
        "\n",
        "transformation= []\n",
        "\n",
        "train_Dataset = PredictionDataset(train_ID, data_path=data_path_train,\n",
        "                                    transform=transformation\n",
        "                                    )\n",
        "\n",
        "val_Dataset = PredictionDataset(validation_ID, data_path=data_path_validation,\n",
        "                                  transform=transformation\n",
        "                                  )\n",
        "\n",
        "test_Dataset = PredictionDataset(test_ID, data_path=data_path_test,\n",
        "                                  transform=None\n",
        "                                  )"
      ]
    },
    {
      "cell_type": "code",
      "execution_count": null,
      "metadata": {
        "id": "gGbZ96Wb7vDf"
      },
      "outputs": [],
      "source": [
        "input_modalities, mask, patient = train_Dataset[0]"
      ]
    },
    {
      "cell_type": "code",
      "execution_count": null,
      "metadata": {
        "colab": {
          "base_uri": "https://localhost:8080/"
        },
        "id": "9wcyWKUM7xap",
        "outputId": "443dd69b-9f75-4678-9aa3-1667a63d1549"
      },
      "outputs": [],
      "source": [
        "print(\"Shape of the input:\", input_modalities.shape)\n",
        "print(\"Patient identification:\", patient)"
      ]
    },
    {
      "cell_type": "markdown",
      "metadata": {
        "id": "J_2-uyYD72Z8"
      },
      "source": [
        "## 4.c. `DataLoader` Creation\n",
        "\n",
        "Here we define the size of our training batches. We choose batch_size = 32."
      ]
    },
    {
      "cell_type": "code",
      "execution_count": null,
      "metadata": {
        "id": "ZxoWoVD88EX5"
      },
      "outputs": [],
      "source": [
        "# Define the batch size\n",
        "batch_size = 32\n",
        "\n",
        "train_loader = torch.utils.data.DataLoader(train_Dataset, \n",
        "                                           batch_size=batch_size, shuffle=True,\n",
        "                                           drop_last=True)\n",
        "\n",
        "val_loader = torch.utils.data.DataLoader(val_Dataset,\n",
        "                                         batch_size=batch_size, drop_last=True) \n",
        "\n",
        "test_loader = torch.utils.data.DataLoader(test_Dataset,\n",
        "                                         batch_size=1, drop_last=False)"
      ]
    },
    {
      "cell_type": "markdown",
      "metadata": {
        "id": "7j4oXOohvNpt"
      },
      "source": [
        "# **5. Utility function**\n",
        "\n"
      ]
    },
    {
      "cell_type": "code",
      "execution_count": null,
      "metadata": {
        "id": "nvYu-hMkvq-L"
      },
      "outputs": [],
      "source": [
        "def save_checkpoint(state, save_path):\n",
        "    '''\n",
        "        Save the current model. \n",
        "        If the model is the best model since beginning of the training\n",
        "        it will be copy\n",
        "    '''\n",
        "\n",
        "    if not os.path.isdir(save_path):\n",
        "        os.makedirs(save_path)\n",
        "\n",
        "    epoch = state['epoch']\n",
        "    val_loss = state['val_loss']\n",
        "    filename = save_path + '/' + \\\n",
        "        'model.{:02d}--{:.3f}.pth.tar'.format(epoch, val_loss)\n",
        "    torch.save(state, filename)\n",
        "\n",
        "def print_summary(epoch, i, nb_batch, loss, batch_time, \n",
        "                  average_loss, average_time, mode):\n",
        "    '''\n",
        "        mode = Train or Test\n",
        "    '''\n",
        "    summary = '[' + str(mode) + '] Epoch: [{0}][{1}/{2}]\\t'.format(\n",
        "        epoch, i, nb_batch)\n",
        "\n",
        "    string = ''\n",
        "    string += ('MAE Loss {:.4f} ').format(loss)\n",
        "    string += ('(Average {:.4f}) \\t').format(average_loss)\n",
        "    string += ('Batch Time {:.4f} ').format(batch_time)\n",
        "    string += ('(Average {:.4f}) \\t').format(average_time)\n",
        "\n",
        "    summary += string\n",
        "    print(summary)"
      ]
    },
    {
      "cell_type": "code",
      "execution_count": null,
      "metadata": {
        "id": "q_zuOLIVwftu"
      },
      "outputs": [],
      "source": [
        "# Definition of the different metrics\n",
        "import math\n",
        "import pandas as pd\n",
        "\n",
        "def mae(y_true, predictions):\n",
        "  ''' Compute the MAE loss  '''\n",
        "  return np.mean(np.abs(y_true - predictions))\n",
        "\n",
        "def mse(actual, predicted):\n",
        "  ''' Compute the MSE loss  '''\n",
        "  differences = np.subtract(actual, predicted)\n",
        "  squared_differences = np.square(differences)\n",
        "  return squared_differences.mean()\n",
        "\n",
        "def rmse(actual, predicted):\n",
        "  ''' Compute the RMSE loss  '''\n",
        "  differences = np.subtract(actual, predicted)\n",
        "  squared_differences = np.square(differences)\n",
        "  return math.sqrt(squared_differences.mean())\n",
        "\n",
        "def evalAllSample(mask , gt):\n",
        "    '''\n",
        "    This functions takes as input two numpy arrays and calculate the metrics MAE,MSE and RMSE\n",
        "    '''\n",
        "    wt_metrics = [mae(mask , gt),mse(mask , gt),rmse(mask, gt)]\n",
        "    return pd.DataFrame({'wt': wt_metrics}, index=['MAE', 'MSE', 'RMSE'])"
      ]
    },
    {
      "cell_type": "code",
      "execution_count": null,
      "metadata": {
        "id": "EYoTDk5Gwl4x"
      },
      "outputs": [],
      "source": [
        "def predict(load, model):\n",
        "  ''' Predict the dose with a given model and a given load of size 12*128*128  '''\n",
        "  irm= torch.from_numpy(load).float().cuda()\n",
        "  image1=model(irm).cpu()\n",
        "  image1=image1.detach().numpy()\n",
        "  pred=image1[0][0]\n",
        "  return pred\n",
        "\n",
        "def re_construct(patient_path):\n",
        "  ''' Construct a compatible input for the model given a patient_path  '''\n",
        "  irm = []\n",
        "  u=np.load(os.path.join(patient_path,'structure_masks.npy'))\n",
        "  for k in range(len(u)):\n",
        "    irm.append(u[k])\n",
        "  irm.append(np.load(os.path.join(patient_path,'possible_dose_mask.npy')))\n",
        "  irm.append(np.load(os.path.join(patient_path,'ct.npy')))\n",
        "  irm = np.stack(irm, axis=0)\n",
        "  irm=np.array([irm])\n",
        "  return irm"
      ]
    },
    {
      "cell_type": "code",
      "execution_count": null,
      "metadata": {
        "id": "ucSc6IS38XEV"
      },
      "outputs": [],
      "source": [
        "# Train the model\n",
        "def train_loop(loader, model, criterion, optimizer, writer, epoch):\n",
        "\n",
        "    logging_mode = 'Train' if model.training else 'Val'\n",
        "    if model.training:print('training')\n",
        "    \n",
        "    epoch_time_sum, epoch_loss_sum = [], []\n",
        "    \n",
        "    for i, sample in enumerate(loader, 1):\n",
        "        start = time.time()\n",
        "        # Take variable \n",
        "        (irms, masks, patients) = sample \n",
        "        # print(irms.shape) # Batch * Number of Modalities * Width * Height\n",
        "        \n",
        "        # Put variables to GPU\n",
        "        irms = irms.float().cuda()\n",
        "        masks = masks.float().cuda()\n",
        "    \n",
        "        # compute model prediction\n",
        "        pred_masks = model(irms)\n",
        "\n",
        "        # compute loss\n",
        "        mae_loss = criterion(pred_masks, masks) \n",
        "\n",
        "        # If in training mode ...\n",
        "        if model.training:\n",
        "            # Initialize optimizer gradients to zero\n",
        "            optimizer.zero_grad()\n",
        "            # Perform backpropagation\n",
        "            mae_loss.backward()\n",
        "            # Update the model's trainable parameters using the computed gradients\n",
        "            optimizer.step()\n",
        "\n",
        "        # Compute elapsed time\n",
        "        batch_time = time.time() - start\n",
        "\n",
        "        epoch_time_sum += [batch_time]\n",
        "        epoch_loss_sum += [mae_loss.item()]\n",
        "        \n",
        "        average_time = np.mean(epoch_time_sum)\n",
        "        average_loss = np.mean(epoch_loss_sum)\n",
        "        \n",
        "        if i % print_frequency == 0:\n",
        "            print_summary(epoch + 1, i, len(loader), mae_loss, batch_time,\n",
        "                          average_loss, average_time, logging_mode)\n",
        "        step = epoch*len(loader) + i\n",
        "        writer.add_scalar(logging_mode + '_mae', mae_loss.item(),step)\n",
        "            \n",
        "            \n",
        "\n",
        "    writer.add_scalar(logging_mode + '_global_loss', np.mean(epoch_loss_sum), epoch)\n",
        "    return np.mean(epoch_loss_sum)"
      ]
    },
    {
      "cell_type": "markdown",
      "metadata": {
        "id": "Qzv4EinS8IEe"
      },
      "source": [
        "# **6. Training**"
      ]
    },
    {
      "cell_type": "markdown",
      "metadata": {
        "id": "nbxA6plIBkOu"
      },
      "source": [
        "## 6.a Training from scratch "
      ]
    },
    {
      "cell_type": "code",
      "execution_count": null,
      "metadata": {
        "id": "S8esC4HZvCU0"
      },
      "outputs": [],
      "source": [
        "batch_size = 32\n",
        "n_modalities = 12\n",
        "n_classes = 1\n",
        "learning_rate = 1e-4\n",
        "criterion = nn.L1Loss() \n",
        "epochs = 2 ##100\n",
        "print_frequency = 10\n",
        "save_frequency = 1\n",
        "save_model = True\n",
        "weight_decay = 1e-5"
      ]
    },
    {
      "cell_type": "code",
      "execution_count": null,
      "metadata": {
        "id": "xDWERk9K8hMp"
      },
      "outputs": [],
      "source": [
        "torch.cuda.empty_cache()\n",
        "model = UNet(n_channels=n_modalities, n_classes=n_classes) # Create model\n",
        "\n",
        "model.cuda() # move model to GPU\n",
        "optimizer = torch.optim.Adam(model.parameters(), lr=learning_rate) # Choose optimize"
      ]
    },
    {
      "cell_type": "code",
      "execution_count": null,
      "metadata": {
        "id": "RVOdJwed8nO1"
      },
      "outputs": [],
      "source": [
        "save_path = \"./MVA-Dose-Prediction/saveA/\"\n",
        "session_name = 'Test_session' + '_' + time.strftime('%m.%d %Hh%M')\n",
        "model_path = save_path + 'models/' + session_name + '/'\n",
        "# Start tensorboard\n",
        "session_name = 'Test_session' + '_' + time.strftime('%m.%d %Hh%M')\n",
        "tensorboard_folder = save_path + 'tensorboard_logs/'\n",
        "log_dir = tensorboard_folder + session_name + '/'\n",
        "if not os.path.isdir(log_dir):\n",
        "    os.makedirs(log_dir)\n",
        "writer = torch.utils.tensorboard.SummaryWriter(log_dir)"
      ]
    },
    {
      "cell_type": "code",
      "execution_count": null,
      "metadata": {
        "colab": {
          "base_uri": "https://localhost:8080/"
        },
        "id": "CZtx2_0E8w59",
        "outputId": "d88a988c-8afb-40da-8506-ab3d0dbad82b"
      },
      "outputs": [
        {
          "name": "stdout",
          "output_type": "stream",
          "text": [
            "******** Epoch [1/3]  ********\n",
            "Test_session_03.26 17h52\n",
            "Training\n",
            "training\n",
            "[Train] Epoch: [1][10/243]\tMAE Loss 2.7760 (Average 2.8529) \tBatch Time 0.2478 (Average 0.2634) \t\n",
            "[Train] Epoch: [1][20/243]\tMAE Loss 2.3164 (Average 2.7266) \tBatch Time 0.2473 (Average 0.2558) \t\n",
            "[Train] Epoch: [1][30/243]\tMAE Loss 2.6020 (Average 2.6917) \tBatch Time 0.2472 (Average 0.2533) \t\n",
            "[Train] Epoch: [1][40/243]\tMAE Loss 2.4724 (Average 2.6408) \tBatch Time 0.2507 (Average 0.2520) \t\n",
            "[Train] Epoch: [1][50/243]\tMAE Loss 2.4875 (Average 2.5925) \tBatch Time 0.2492 (Average 0.2515) \t\n",
            "[Train] Epoch: [1][60/243]\tMAE Loss 1.9366 (Average 2.5387) \tBatch Time 0.2501 (Average 0.2511) \t\n",
            "[Train] Epoch: [1][70/243]\tMAE Loss 2.0905 (Average 2.5034) \tBatch Time 0.2508 (Average 0.2510) \t\n",
            "[Train] Epoch: [1][80/243]\tMAE Loss 1.6794 (Average 2.4604) \tBatch Time 0.2504 (Average 0.2508) \t\n",
            "[Train] Epoch: [1][90/243]\tMAE Loss 2.2989 (Average 2.4214) \tBatch Time 0.2511 (Average 0.2507) \t\n",
            "[Train] Epoch: [1][100/243]\tMAE Loss 1.9319 (Average 2.3575) \tBatch Time 0.2510 (Average 0.2508) \t\n",
            "[Train] Epoch: [1][110/243]\tMAE Loss 2.1272 (Average 2.3148) \tBatch Time 0.2525 (Average 0.2509) \t\n",
            "[Train] Epoch: [1][120/243]\tMAE Loss 1.9121 (Average 2.2707) \tBatch Time 0.2498 (Average 0.2509) \t\n",
            "[Train] Epoch: [1][130/243]\tMAE Loss 1.6551 (Average 2.2207) \tBatch Time 0.2503 (Average 0.2510) \t\n",
            "[Train] Epoch: [1][140/243]\tMAE Loss 1.3599 (Average 2.1832) \tBatch Time 0.2522 (Average 0.2510) \t\n",
            "[Train] Epoch: [1][150/243]\tMAE Loss 1.3983 (Average 2.1438) \tBatch Time 0.2544 (Average 0.2511) \t\n",
            "[Train] Epoch: [1][160/243]\tMAE Loss 1.3545 (Average 2.1165) \tBatch Time 0.2471 (Average 0.2512) \t\n",
            "[Train] Epoch: [1][170/243]\tMAE Loss 1.3019 (Average 2.0844) \tBatch Time 0.2531 (Average 0.2513) \t\n",
            "[Train] Epoch: [1][180/243]\tMAE Loss 1.3738 (Average 2.0460) \tBatch Time 0.2529 (Average 0.2515) \t\n",
            "[Train] Epoch: [1][190/243]\tMAE Loss 1.2575 (Average 2.0160) \tBatch Time 0.2518 (Average 0.2516) \t\n",
            "[Train] Epoch: [1][200/243]\tMAE Loss 1.2401 (Average 1.9784) \tBatch Time 0.2547 (Average 0.2517) \t\n",
            "[Train] Epoch: [1][210/243]\tMAE Loss 1.3173 (Average 1.9434) \tBatch Time 0.2539 (Average 0.2518) \t\n",
            "[Train] Epoch: [1][220/243]\tMAE Loss 0.9022 (Average 1.9099) \tBatch Time 0.2542 (Average 0.2518) \t\n",
            "[Train] Epoch: [1][230/243]\tMAE Loss 0.8247 (Average 1.8729) \tBatch Time 0.2524 (Average 0.2519) \t\n",
            "[Train] Epoch: [1][240/243]\tMAE Loss 0.7381 (Average 1.8359) \tBatch Time 0.2517 (Average 0.2520) \t\n",
            "Validation\n",
            "[Val] Epoch: [1][10/37]\tMAE Loss 0.8744 (Average 0.8540) \tBatch Time 0.0183 (Average 0.0202) \t\n",
            "[Val] Epoch: [1][20/37]\tMAE Loss 0.9379 (Average 0.8788) \tBatch Time 0.0187 (Average 0.0196) \t\n",
            "[Val] Epoch: [1][30/37]\tMAE Loss 1.0790 (Average 0.8815) \tBatch Time 0.0218 (Average 0.0198) \t\n",
            "******** Epoch [2/3]  ********\n",
            "Test_session_03.26 17h52\n",
            "Training\n",
            "training\n",
            "[Train] Epoch: [2][10/243]\tMAE Loss 0.7112 (Average 0.7964) \tBatch Time 0.2531 (Average 0.2534) \t\n",
            "[Train] Epoch: [2][20/243]\tMAE Loss 0.8467 (Average 0.7760) \tBatch Time 0.2550 (Average 0.2538) \t\n",
            "[Train] Epoch: [2][30/243]\tMAE Loss 0.5741 (Average 0.7640) \tBatch Time 0.2536 (Average 0.2540) \t\n",
            "[Train] Epoch: [2][40/243]\tMAE Loss 0.6603 (Average 0.7489) \tBatch Time 0.2536 (Average 0.2539) \t\n",
            "[Train] Epoch: [2][50/243]\tMAE Loss 0.7788 (Average 0.7290) \tBatch Time 0.2544 (Average 0.2537) \t\n",
            "[Train] Epoch: [2][60/243]\tMAE Loss 0.6329 (Average 0.7154) \tBatch Time 0.2538 (Average 0.2538) \t\n",
            "[Train] Epoch: [2][70/243]\tMAE Loss 0.6205 (Average 0.7017) \tBatch Time 0.2521 (Average 0.2537) \t\n",
            "[Train] Epoch: [2][80/243]\tMAE Loss 0.6324 (Average 0.6944) \tBatch Time 0.2540 (Average 0.2537) \t\n",
            "[Train] Epoch: [2][90/243]\tMAE Loss 0.5123 (Average 0.6843) \tBatch Time 0.2538 (Average 0.2536) \t\n",
            "[Train] Epoch: [2][100/243]\tMAE Loss 0.7697 (Average 0.6774) \tBatch Time 0.2546 (Average 0.2537) \t\n",
            "[Train] Epoch: [2][110/243]\tMAE Loss 0.6022 (Average 0.6695) \tBatch Time 0.2532 (Average 0.2538) \t\n",
            "[Train] Epoch: [2][120/243]\tMAE Loss 0.5352 (Average 0.6620) \tBatch Time 0.2530 (Average 0.2537) \t\n",
            "[Train] Epoch: [2][130/243]\tMAE Loss 0.5703 (Average 0.6578) \tBatch Time 0.2541 (Average 0.2537) \t\n",
            "[Train] Epoch: [2][140/243]\tMAE Loss 0.5242 (Average 0.6507) \tBatch Time 0.2514 (Average 0.2537) \t\n",
            "[Train] Epoch: [2][150/243]\tMAE Loss 0.4360 (Average 0.6451) \tBatch Time 0.2519 (Average 0.2537) \t\n",
            "[Train] Epoch: [2][160/243]\tMAE Loss 0.6615 (Average 0.6418) \tBatch Time 0.2538 (Average 0.2536) \t\n",
            "[Train] Epoch: [2][170/243]\tMAE Loss 0.6334 (Average 0.6372) \tBatch Time 0.2540 (Average 0.2536) \t\n",
            "[Train] Epoch: [2][180/243]\tMAE Loss 0.6143 (Average 0.6336) \tBatch Time 0.2525 (Average 0.2536) \t\n",
            "[Train] Epoch: [2][190/243]\tMAE Loss 0.6402 (Average 0.6317) \tBatch Time 0.2527 (Average 0.2536) \t\n",
            "[Train] Epoch: [2][200/243]\tMAE Loss 0.6521 (Average 0.6286) \tBatch Time 0.2554 (Average 0.2536) \t\n",
            "[Train] Epoch: [2][210/243]\tMAE Loss 0.5709 (Average 0.6258) \tBatch Time 0.2526 (Average 0.2536) \t\n",
            "[Train] Epoch: [2][220/243]\tMAE Loss 0.5926 (Average 0.6225) \tBatch Time 0.2541 (Average 0.2536) \t\n",
            "[Train] Epoch: [2][230/243]\tMAE Loss 0.7117 (Average 0.6195) \tBatch Time 0.2563 (Average 0.2537) \t\n",
            "[Train] Epoch: [2][240/243]\tMAE Loss 0.5251 (Average 0.6161) \tBatch Time 0.2532 (Average 0.2536) \t\n",
            "Validation\n",
            "[Val] Epoch: [2][10/37]\tMAE Loss 0.6055 (Average 0.6178) \tBatch Time 0.0185 (Average 0.0190) \t\n",
            "[Val] Epoch: [2][20/37]\tMAE Loss 0.7163 (Average 0.6548) \tBatch Time 0.0292 (Average 0.0205) \t\n",
            "[Val] Epoch: [2][30/37]\tMAE Loss 0.8452 (Average 0.6603) \tBatch Time 0.0191 (Average 0.0200) \t\n"
          ]
        }
      ],
      "source": [
        "for epoch in range(epochs):  # loop over the dataset multiple times\n",
        "    print('******** Epoch [{}/{}]  ********'.format(epoch+1, epochs+1))\n",
        "    print(session_name)\n",
        "\n",
        "    # train for one epoch\n",
        "    model.train()\n",
        "    print('Training')\n",
        "    train_loop(train_loader, model, criterion, optimizer, writer, epoch)\n",
        "\n",
        "    # evaluate on validation set\n",
        "    print('Validation')\n",
        "    with torch.no_grad():   \n",
        "        model.eval()        \n",
        "        val_loss = train_loop(val_loader, model, criterion, optimizer, writer, epoch)\n",
        "\n",
        "    if save_model and epoch > epochs -2 :\n",
        "        save_checkpoint({'epoch': epoch,\n",
        "                        'state_dict': model.state_dict(),\n",
        "                         'val_loss': val_loss,\n",
        "                         'optimizer': optimizer.state_dict()}, model_path)"
      ]
    },
    {
      "cell_type": "markdown",
      "metadata": {
        "id": "dErhcB8wBv3J"
      },
      "source": [
        "## 6.b Training from previous weights"
      ]
    },
    {
      "cell_type": "code",
      "execution_count": null,
      "metadata": {
        "id": "U3x3XLRuBy_6"
      },
      "outputs": [],
      "source": [
        "torch.cuda.empty_cache()\n",
        "model = UNet(n_channels=n_modalities, n_classes=n_classes) # Create model\n",
        "model.cuda() # move model to GPU\n",
        "optimizer = torch.optim.Adam(model.parameters(), lr=learning_rate) # Choose optimizer\n",
        "checkpoint = torch.load('/content/MVA-Dose-Prediction/saveA/models/Test_session_03.20 19h43/model.04--0.537.pth.tar') # load model\n",
        "model.load_state_dict(checkpoint['state_dict'])\n",
        "optimizer.load_state_dict(checkpoint['optimizer'])\n",
        "epoch = checkpoint['epoch']\n",
        "loss = checkpoint['val_loss']"
      ]
    },
    {
      "cell_type": "code",
      "execution_count": null,
      "metadata": {
        "id": "Ehpe0t9AB4Ou"
      },
      "outputs": [],
      "source": [
        "batch_size = 32\n",
        "n_modalities = 12\n",
        "n_classes = 1\n",
        "learning_rate = 1e-4\n",
        "criterion = nn.L1Loss() \n",
        "epochs = 10\n",
        "print_frequency = 10\n",
        "save_frequency = 1\n",
        "save_model = True\n",
        "weight_decay = 1e-4"
      ]
    },
    {
      "cell_type": "code",
      "execution_count": null,
      "metadata": {
        "id": "qMhOZ_rIB91P"
      },
      "outputs": [],
      "source": [
        "for epoch in range(epochs):  # loop over the dataset multiple times\n",
        "    print('******** Epoch [{}/{}]  ********'.format(epoch+1, epochs+1))\n",
        "    print(session_name)\n",
        "\n",
        "    # train for one epoch\n",
        "    model.train()\n",
        "    print('Training')\n",
        "    train_loop(train_loader, model, criterion, optimizer, writer, epoch)\n",
        "\n",
        "    # evaluate on validation set\n",
        "    print('Validation')\n",
        "    with torch.no_grad():  \n",
        "        model.eval()       \n",
        "        val_loss = train_loop(val_loader, model, criterion, optimizer, writer, epoch)\n",
        "\n",
        "    # if save_model and epoch % save_frequency == 0:\n",
        "    if save_model and epoch > epochs -2 :\n",
        "        save_checkpoint({'epoch': epoch,\n",
        "                        'state_dict': model.state_dict(),\n",
        "                         'val_loss': val_loss,\n",
        "                         'optimizer': optimizer.state_dict()}, model_path)"
      ]
    },
    {
      "cell_type": "markdown",
      "metadata": {
        "id": "J3sHMKhM9F7O"
      },
      "source": [
        "# **7.Prediction and evalutation**\n",
        "\n",
        "After training the model, we need to perform two steps:\n",
        " \n",
        "\n",
        "1.  Use the trained model to predict a dose.\n",
        " \n",
        "2.  Evaluate the performance of the network on the validation set\n"
      ]
    },
    {
      "cell_type": "code",
      "execution_count": null,
      "metadata": {
        "id": "TvZj0Zz--xIu"
      },
      "outputs": [],
      "source": [
        "val_path = './MVA-Dose-Prediction/validation/'\n",
        "patients = [os.path.basename(p) for p in glob(val_path + \"*\")]"
      ]
    },
    {
      "cell_type": "code",
      "execution_count": null,
      "metadata": {
        "id": "M4sRVpNv_WB7"
      },
      "outputs": [],
      "source": [
        "# Load a saved model (Can be found in the save/model folder\n",
        "checkpoint = torch.load('/content/MVA-Dose-Prediction/saveA/models/Test_session_03.20 16h11/model.04--0.785.pth.tar')\n",
        "model.load_state_dict(checkpoint['state_dict'])\n",
        "optimizer.load_state_dict(checkpoint['optimizer'])"
      ]
    },
    {
      "cell_type": "markdown",
      "metadata": {
        "id": "8TqzfG8D_h8I"
      },
      "source": [
        "## 7.a Visualisation of one exemple : "
      ]
    },
    {
      "cell_type": "code",
      "execution_count": null,
      "metadata": {
        "colab": {
          "base_uri": "https://localhost:8080/",
          "height": 267
        },
        "id": "q_SMJ82J_eWe",
        "outputId": "dc6b2135-7927-42c1-b87b-0fb53b9cb33f"
      },
      "outputs": [
        {
          "data": {
            "image/png": "[encoded data removed]",
            "text/plain": [
              "<Figure size 432x288 with 2 Axes>"
            ]
          },
          "metadata": {
            "needs_background": "light"
          },
          "output_type": "display_data"
        }
      ],
      "source": [
        "patient_path= '/content/MVA-Dose-Prediction/validation/sample_8496'\n",
        "irm = []\n",
        "u=np.load(os.path.join(patient_path,'structure_masks.npy'))\n",
        "for k in range(len(u)):\n",
        "  irm.append(u[k])\n",
        "irm.append(np.load(os.path.join(patient_path,'possible_dose_mask.npy')))\n",
        "irm.append(np.load(os.path.join(patient_path,'ct.npy')))\n",
        "irm = np.stack(irm, axis=0)\n",
        "irm=np.array([irm])\n",
        "irm= torch.from_numpy(irm).float().cuda()\n",
        "image1=model(irm).cpu()\n",
        "image1=image1.detach().numpy()\n",
        "image=image1[0][0]\n",
        "ax = plt.subplot()\n",
        "divider = make_axes_locatable(ax)\n",
        "cax = divider.append_axes(\"right\", size=\"5%\", pad=0.05)\n",
        "im = ax.imshow(image)\n",
        "plt.colorbar(im, cax=cax)\n",
        "plt.show()"
      ]
    },
    {
      "cell_type": "code",
      "execution_count": null,
      "metadata": {
        "colab": {
          "base_uri": "https://localhost:8080/",
          "height": 267
        },
        "id": "PwpAQqcC_qdN",
        "outputId": "3e0bdea5-e881-4a10-edc2-73d5351f5c35"
      },
      "outputs": [
        {
          "data": {
            "image/png": "[encoded data removed]",
            "text/plain": [
              "<Figure size 432x288 with 2 Axes>"
            ]
          },
          "metadata": {
            "needs_background": "light"
          },
          "output_type": "display_data"
        }
      ],
      "source": [
        "imaget = np.load('./MVA-Dose-Prediction/validation/sample_8496/dose.npy')\n",
        "ax = plt.subplot()\n",
        "divider = make_axes_locatable(ax)\n",
        "cax = divider.append_axes(\"right\", size=\"5%\", pad=0.05)\n",
        "im = ax.imshow(imaget)\n",
        "plt.colorbar(im, cax=cax)\n",
        "plt.show()"
      ]
    },
    {
      "cell_type": "code",
      "execution_count": null,
      "metadata": {
        "colab": {
          "base_uri": "https://localhost:8080/"
        },
        "id": "t5Qqle3O_sAe",
        "outputId": "73cfc5df-0ca9-4e8b-a883-a59f78efd3ce"
      },
      "outputs": [
        {
          "name": "stdout",
          "output_type": "stream",
          "text": [
            "0.8747356701547105\n"
          ]
        }
      ],
      "source": [
        "# We calculate the mae between the predicted dose and the true dose.npy image\n",
        "print(mae(imaget,image))"
      ]
    },
    {
      "cell_type": "markdown",
      "metadata": {
        "id": "lNvn6qql_7qU"
      },
      "source": [
        "## 7.b Metrics computation on all validation "
      ]
    },
    {
      "cell_type": "code",
      "execution_count": null,
      "metadata": {
        "id": "WjUCaNee_vTD"
      },
      "outputs": [],
      "source": [
        "mae_list = []\n",
        "mse_list = []\n",
        "rmse_list = []\n",
        "\n",
        "for patient in patients:\n",
        "    # Path to original image\n",
        "    patient_folder = os.path.join(val_path,patient)\n",
        "    # Open image\n",
        "    predict_mask= re_construct(patient_path=patient_folder)\n",
        "    predict_mask=predict(predict_mask,model)\n",
        "\n",
        "    orig = os.path.join(patient_folder, 'dose.npy')\n",
        "    # Convert image to numpy array\n",
        "    orig_mask = np.load(orig)\n",
        "    \n",
        "    # print('*********** {} ***********'.format(patient))\n",
        "    scores = evalAllSample(predict_mask, orig_mask)\n",
        "    # print(scores)\n",
        "    # print(\"\\n\")\n",
        "\n",
        "    mae_list.append(scores.loc['MAE', 'wt'])\n",
        "    mse_list.append(scores.loc['MSE', 'wt'])\n",
        "    rmse_list.append(scores.loc['RMSE', 'wt'])"
      ]
    },
    {
      "cell_type": "code",
      "execution_count": null,
      "metadata": {
        "colab": {
          "base_uri": "https://localhost:8080/"
        },
        "id": "TmXGWcayAAEE",
        "outputId": "f94da470-fe23-4fa8-f2d6-02aefd357c38"
      },
      "outputs": [
        {
          "name": "stdout",
          "output_type": "stream",
          "text": [
            "MAE on the validation set : 0.70\n",
            "MSE on the validation set : 9.77\n",
            "RMSE on the validation set : 2.87\n"
          ]
        }
      ],
      "source": [
        "# We evaluate the model on the entire validation dataset :\n",
        "print('MAE on the validation set : {:.2f}'.format(np.mean(mae_list)))\n",
        "print('MSE on the validation set : {:.2f}'.format(np.mean(mse_list)))\n",
        "print('RMSE on the validation set : {:.2f}'.format(np.mean(rmse_list)))"
      ]
    },
    {
      "cell_type": "markdown",
      "metadata": {
        "id": "lqvHz9tEAo7V"
      },
      "source": [
        "## 7.c Answer Folder generation "
      ]
    },
    {
      "cell_type": "code",
      "execution_count": null,
      "metadata": {
        "id": "EVzitlB1AKiH"
      },
      "outputs": [],
      "source": [
        "## mounting drive will make the download of the answer folder easier\n",
        "from google.colab import drive\n",
        "drive.mount('/content/gdrive')"
      ]
    },
    {
      "cell_type": "code",
      "execution_count": null,
      "metadata": {
        "id": "UggZ2mbJA_JX"
      },
      "outputs": [],
      "source": [
        "test_path = './MVA-Dose-Prediction/test/'\n",
        "patient1 = [os.path.basename(p) for p in glob(test_path + \"*\")]"
      ]
    },
    {
      "cell_type": "code",
      "execution_count": null,
      "metadata": {
        "id": "CqwztJXVA8qD"
      },
      "outputs": [],
      "source": [
        "# Creation of a folder with the answers\n",
        "save_path1 = \"./MVA-Dose-Prediction/Answers/\"\n",
        "if not os.path.isdir(save_path1):\n",
        "    os.makedirs(save_path1)\n",
        "\n",
        "for patient in patient1:\n",
        "    # Path to original image\n",
        "    patient_folder = os.path.join(test_path,patient)\n",
        "    # Open image\n",
        "    predict_mask= re_construct(patient_path=patient_folder)\n",
        "    predict_mask=predict(predict_mask,model)\n",
        "    np.save(os.path.join(save_path1,patient), predict_mask)"
      ]
    },
    {
      "cell_type": "code",
      "execution_count": null,
      "metadata": {
        "id": "o-hLGJ_uBQ1i"
      },
      "outputs": [],
      "source": [
        "# We check the content of the new folder Answers\n",
        "imaget = np.load('./MVA-Dose-Prediction/Answers/sample_10012.npy')\n",
        "ax = plt.subplot()\n",
        "divider = make_axes_locatable(ax)\n",
        "cax = divider.append_axes(\"right\", size=\"5%\", pad=0.05)\n",
        "im = ax.imshow(imaget)\n",
        "plt.colorbar(im, cax=cax)\n",
        "plt.show()"
      ]
    },
    {
      "cell_type": "code",
      "execution_count": null,
      "metadata": {
        "id": "g2nr-AWPBV_6"
      },
      "outputs": [],
      "source": [
        "## to load in the gdrive \n",
        "!cp -r ./MVA-Dose-Prediction/Answers /content/gdrive/My\\ Drive/"
      ]
    },
    {
      "cell_type": "markdown",
      "metadata": {
        "id": "sNzjU9VQCVRB"
      },
      "source": [
        "## **8. Annexe**"
      ]
    },
    {
      "cell_type": "markdown",
      "metadata": {
        "id": "nd7JHqXkCpP5"
      },
      "source": [
        "## 8.a Data Augmentation Test "
      ]
    },
    {
      "cell_type": "code",
      "execution_count": null,
      "metadata": {
        "colab": {
          "base_uri": "https://localhost:8080/"
        },
        "id": "Rp1dg378FoS1",
        "outputId": "5748e569-0891-4ed5-fa2e-16ce2f31fd68"
      },
      "outputs": [
        {
          "name": "stdout",
          "output_type": "stream",
          "text": [
            "(12, 128, 128)\n",
            "(1, 128, 128)\n",
            "('sample_8094', 'sample_8476', 'sample_8908', 'sample_8416', 'sample_8690', 'sample_8117', 'sample_8159', 'sample_7813', 'sample_7861', 'sample_8167', 'sample_8061', 'sample_8067', 'sample_8213', 'sample_8897', 'sample_8246', 'sample_8505', 'sample_8604', 'sample_8564', 'sample_8524', 'sample_8721', 'sample_8253', 'sample_8862', 'sample_8894', 'sample_8098', 'sample_8579', 'sample_8183', 'sample_8487', 'sample_8786', 'sample_8346', 'sample_8047', 'sample_8554', 'sample_7869')\n"
          ]
        }
      ],
      "source": [
        "irms, masks, patient = next(iter(val_loader))\n",
        "\n",
        "irm = irms[0,:].numpy()\n",
        "mask = masks[0,:].numpy()\n",
        "print(irm.shape)\n",
        "print(mask.shape)\n",
        "print(patient)"
      ]
    },
    {
      "cell_type": "code",
      "execution_count": null,
      "metadata": {
        "id": "lL0RjDKYCbPI"
      },
      "outputs": [],
      "source": [
        "import scipy\n",
        "import scipy.ndimage\n",
        "import numpy as np\n",
        "\n",
        "class AxialFlip(object):\n",
        "\n",
        "    def __call__(self, sample):\n",
        "        choice_x = np.random.randint(0, 2)\n",
        "        choice_y = np.random.randint(0, 2)        \n",
        "        irm, mask = sample\n",
        "        new_sample = (self.axialflip(irm, choice_x, choice_y),\n",
        "                      self.axialflip(mask, choice_x, choice_y))\n",
        "        return new_sample\n",
        "\n",
        "    def axialflip(self, array, choice_x, choice_y):\n",
        "        if choice_x == 1:  array = array[:, ::-1, :]\n",
        "        if choice_y == 1:  array = array[:, ::-1, ::-1]\n",
        "        return np.ascontiguousarray(array)\n",
        "\n",
        "class RandomRotation90(object):\n",
        "    '''\n",
        "        Taken from augment_rot90 from MIC-DKFZ/batchgenerators\n",
        "        https://github.com/MIC-DKFZ/batchgenerators/blob/master/batchgenerators/augmentations/spatial_transformations.py\n",
        "    '''\n",
        "\n",
        "    def __init__(self, num_rot=(1, 2, 3, 4)):\n",
        "        self.num_rot = num_rot\n",
        "        self.axes = (1,2)\n",
        "\n",
        "    def __call__(self, sample):\n",
        "        '''\n",
        "          irm and mask have shape (Modality*Width*Height) and (Label*Width*Height)\n",
        "        '''\n",
        "        num_rot = np.random.choice(self.num_rot)        \n",
        "        def f(img):\n",
        "            return np.ascontiguousarray(np.rot90(img, num_rot, self.axes))\n",
        "        \n",
        "        irm, mask = sample\n",
        "        new_sample = (f(irm), f(mask))\n",
        "        return new_sample\n",
        "\n",
        "class RandomCrop(object):\n",
        "    \"\"\"Crop randomly the image in a sample.\n",
        "\n",
        "    Args:\n",
        "        output_size (tuple or int): Desired output size. If int, cubic crop\n",
        "            is made.\n",
        "    \"\"\"\n",
        "    def __init__(self, output_size, dim=2):\n",
        "        assert isinstance(output_size, (int, tuple, list))\n",
        "        if isinstance(output_size, int):\n",
        "            self.output_size = dim * (output_size,)\n",
        "        else:\n",
        "            assert len(output_size) == dim\n",
        "            self.output_size = output_size  \n",
        "\n",
        "    def __call__(self, sample):        \n",
        "        irm, mask = sample        \n",
        "        _, height, width = irm.shape    \n",
        "        i = np.random.randint(0, height - self.output_size[0])\n",
        "        j = np.random.randint(0, width - self.output_size[1])\n",
        "\n",
        "        def f(img):\n",
        "            return img[:, i: i + self.output_size[0], j : j + self.output_size[1]]\n",
        "\n",
        "        new_sample = ( f(irm), f(mask))\n",
        "        return new_sample\n",
        "\n",
        "def RandomTranslation(max_translation=30, transform_matrix=None, debug=False):    \n",
        "    translation = np.random.randint(-max_translation, max_translation, 2)    \n",
        "    if debug:\n",
        "        return getTranslationMatrix(translation, transform_matrix), (translation)\n",
        "    else:\n",
        "        return getTranslationMatrix(translation, transform_matrix)\n",
        "    \n",
        "def RandomRotation(theta_max=20, transform_matrix=None, debug=False):    \n",
        "    theta = np.random.uniform(-theta_max, theta_max)\n",
        "    if debug:\n",
        "        return getRotationMatrix(theta, transform_matrix), theta\n",
        "    else:\n",
        "        return getRotationMatrix(theta, transform_matrix)\n",
        "\n",
        "def RandomZoom(zoom_max=0.2, transform_matrix=None, debug=False):  \n",
        "    zoom = np.random.uniform(1 - zoom_max, 1 + zoom_max)\n",
        "    if debug:\n",
        "          return getZoomMatrix(zoom, transform_matrix), zoom\n",
        "    else:\n",
        "        return getZoomMatrix(zoom, transform_matrix)\n",
        "\n",
        "def getTranslationMatrix(translation, transform_matrix=None):\n",
        "    '''\n",
        "        2D translation on the axis (0, 1). \n",
        "        Axis 3 is the modality axis\n",
        "        tx: Width shift.\n",
        "        ty: Heigh shift.\n",
        "    \n",
        "    '''\n",
        "    shift_matrix = np.array([[1, 0, translation[0]],\n",
        "                            [0, 1, translation[1]],\n",
        "                            [0, 0, 1]])\n",
        "\n",
        "    if transform_matrix is None:\n",
        "        transform_matrix = shift_matrix\n",
        "    else:\n",
        "        transform_matrix = np.dot(transform_matrix, shift_matrix)            \n",
        "    return transform_matrix\n",
        "\n",
        "def getZoomMatrix(zoom, transform_matrix=None):\n",
        "    '''\n",
        "        Affine Zoom in 2D\n",
        "        zx: Zoom in x direction.\n",
        "        zy: Zoom in y direction\n",
        "    '''\n",
        "    zoom_matrix = np.array([[zoom, 0, 0],\n",
        "                            [0, zoom, 0],\n",
        "                            [0, 0, 1]])\n",
        "    if transform_matrix is None:\n",
        "        transform_matrix = zoom_matrix\n",
        "    else:\n",
        "        transform_matrix = np.dot(transform_matrix, zoom_matrix)            \n",
        "    return transform_matrix\n",
        "\n",
        "def getRotationMatrix(theta, transform_matrix=None):\n",
        "    '''\n",
        "        2D rotation on the axis (0, 1). \n",
        "        Axis 3 is the modality axis\n",
        "        theta: Rotation angle in degrees.\n",
        "    '''\n",
        "    theta = np.deg2rad(theta)\n",
        "    rotation_matrix = np.array([[np.cos(theta), -np.sin(theta), 0],\n",
        "                                [np.sin(theta), np.cos(theta), 0],\n",
        "                                [0, 0, 1]])\n",
        "    if transform_matrix is None:\n",
        "        transform_matrix = rotation_matrix\n",
        "    else:\n",
        "        transform_matrix = np.dot(transform_matrix, rotation_matrix)\n",
        "    return transform_matrix\n",
        "\n",
        "\n",
        "def apply_affine_transform(x, seg=None, transform_matrix=None, crop_shape=None, \n",
        "                           fill_mode='nearest', cval=0., order=3):\n",
        "    \"\"\"Applies an affine transformation specified by the parameters given.\n",
        "    # Arguments\n",
        "        x: 4D numpy array, single image, multimodalities (Modality*H*W)\n",
        "        fill_mode: Points outside the boundaries of the input\n",
        "            are filled according to the given mode\n",
        "            (one of `{'constant', 'nearest', 'reflect', 'wrap'}`).\n",
        "        cval: Value used for points outside the boundaries\n",
        "            of the input if `mode='constant'`.\n",
        "        order: int, order of interpolation\n",
        "    # Returns\n",
        "        The transformed version of the input.\n",
        "    \"\"\"\n",
        "    if scipy is None:\n",
        "        raise ImportError('Image transformations require SciPy. '\n",
        "                          'Install SciPy.')\n",
        "    if transform_matrix is not None:        \n",
        "        channels, h, w = x.shape                \n",
        "        transform_matrix = transform_matrix_offset_center(transform_matrix, \n",
        "                                                          h, w)\n",
        "        res = [ scipy.ndimage.affine_transform(x[channel, ...], transform_matrix,\n",
        "                                              order=order, mode=fill_mode, cval=cval)  for channel in range(channels)]\n",
        "        x = np.stack(res, axis=0)\n",
        "        \n",
        "        if seg is not None:            \n",
        "            labels = seg.shape[0]\n",
        "            res = [scipy.ndimage.affine_transform(seg[label, ...], transform_matrix,\n",
        "                                                                order=order, mode=fill_mode, cval=cval) for label in range(labels)]\n",
        "            seg = np.stack(res, axis=0)\n",
        "            seg[seg > 0.5] = 1\n",
        "            seg[seg < 0.5] = 0\n",
        "            return x, seg         \n",
        "    return x\n",
        "\n",
        "def transform_matrix_offset_center(matrix, x, y):\n",
        "    o_x = float(x) / 2 + 0.5\n",
        "    o_y = float(y) / 2 + 0.5\n",
        "    offset_matrix = np.array([[1, 0, o_x], \n",
        "                              [0, 1, o_y],\n",
        "                              [0, 0, 1]])    \n",
        "    reset_matrix = np.array([[1, 0, -o_x], \n",
        "                             [0, 1, -o_y],\n",
        "                             [0, 0, 1]])    \n",
        "    transform_matrix = np.dot(np.dot(offset_matrix, matrix), reset_matrix)\n",
        "    return transform_matrix\n",
        "\n",
        "class AffineTransform(object):\n",
        "    \n",
        "    def __init__(self, theta=0, max_translation=0, max_zoom=0):\n",
        "        self.theta = theta\n",
        "        self.max_translation = max_translation\n",
        "        self.max_zoom = max_zoom\n",
        "        \n",
        "    def __call__(self, sample):        \n",
        "        transform_matrix = np.eye(3)\n",
        "        if self.theta > 0:\n",
        "            transform_matrix = RandomRotation(self.theta)\n",
        "        if self.max_translation > 0:\n",
        "            transform_matrix = RandomTranslation(self.max_translation,\n",
        "                                                 transform_matrix)\n",
        "        if self.max_zoom > 0:\n",
        "            transform_matrix = RandomZoom(self.max_zoom,\n",
        "                                          transform_matrix)\n",
        "        new_irm, new_mask = apply_affine_transform(irm, mask, transform_matrix)\n",
        "        return (new_irm, new_mask)"
      ]
    },
    {
      "cell_type": "code",
      "execution_count": null,
      "metadata": {
        "id": "h9LYYYDeFv4F"
      },
      "outputs": [],
      "source": [
        "transforms_list = [AxialFlip(), RandomRotation90()]\n",
        "batch_size = 32\n",
        "\n",
        "transformation = torchvision.transforms.Compose(transforms_list)\n",
        "\n",
        "\n",
        "train_Dataset = PredictionDataset(train_ID, data_path=data_path_train,\n",
        "                                    transform=transformation\n",
        "                                    )\n",
        "\n",
        "val_Dataset = PredictionDataset(validation_ID, data_path=data_path_validation,\n",
        "                                  transform=transformation\n",
        "                                  )\n",
        "\n",
        "test_Dataset = PredictionDataset(test_ID, data_path=data_path_test,\n",
        "                                  transform=None\n",
        "                                  )\n",
        "\n",
        "train_loader_data_augment = torch.utils.data.DataLoader(train_Dataset, \n",
        "                                           batch_size=batch_size, shuffle=True,\n",
        "                                           drop_last=True)\n",
        "\n",
        "val_loader_data_augment = torch.utils.data.DataLoader(val_Dataset,\n",
        "                                         batch_size=batch_size, drop_last=True) \n",
        "\n",
        "test_loader_data_augment = torch.utils.data.DataLoader(test_Dataset,\n",
        "                                         batch_size=1, drop_last=False)"
      ]
    },
    {
      "cell_type": "markdown",
      "metadata": {
        "id": "pVUO-hFPF68r"
      },
      "source": [
        "## 8.b Add Resblock instead of ConvBatchNorm"
      ]
    },
    {
      "cell_type": "code",
      "execution_count": null,
      "metadata": {
        "id": "0qvtocJJGEAd"
      },
      "outputs": [],
      "source": [
        "## Replace the _make_nConv by this function in the blocks (mostly Downblock)\n",
        "\n",
        "def _make_nRes(in_channels, out_channels, nb_Conv, activation):\n",
        "    layers = [ResBlock(in_channels, out_channels, activation)]\n",
        "    for _ in range(nb_Conv - 1):\n",
        "        layers.append(ResBlock(out_channels, out_channels, activation))\n",
        "    return nn.Sequential(*layers)"
      ]
    }
  ],
  "metadata": {
    "accelerator": "GPU",
    "colab": {
      "provenance": []
    },
    "gpuClass": "standard",
    "kernelspec": {
      "display_name": "Python 3.9.9 64-bit",
      "language": "python",
      "name": "python3"
    },
    "language_info": {
      "name": "python",
      "version": "3.9.9"
    },
    "vscode": {
      "interpreter": {
        "hash": "aee8b7b246df8f9039afb4144a1f6fd8d2ca17a180786b69acc140d282b71a49"
      }
    }
  },
  "nbformat": 4,
  "nbformat_minor": 0
}
